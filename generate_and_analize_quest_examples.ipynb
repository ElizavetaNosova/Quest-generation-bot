{
  "nbformat": 4,
  "nbformat_minor": 0,
  "metadata": {
    "accelerator": "GPU",
    "colab": {
      "name": "generate_and_analize_quest_examples.ipynb",
      "provenance": [],
      "collapsed_sections": [],
      "authorship_tag": "ABX9TyP9iu1IMoRVi0QjO8G6+vpc",
      "include_colab_link": true
    },
    "kernelspec": {
      "display_name": "Python 3",
      "name": "python3"
    }
  },
  "cells": [
    {
      "cell_type": "markdown",
      "metadata": {
        "id": "view-in-github",
        "colab_type": "text"
      },
      "source": [
        "<a href=\"https://colab.research.google.com/github/ElizavetaNosova/Quest-generation-bot/blob/main/generate_and_analize_quest_examples.ipynb\" target=\"_parent\"><img src=\"https://colab.research.google.com/assets/colab-badge.svg\" alt=\"Open In Colab\"/></a>"
      ]
    },
    {
      "cell_type": "code",
      "metadata": {
        "colab": {
          "base_uri": "https://localhost:8080/"
        },
        "id": "_Ngnad0lmI4i",
        "outputId": "8fced212-4ada-431b-98e6-d07c36a07805"
      },
      "source": [
        "!pip install cpufeature\n",
        "!pip install triton==0.2.3\n",
        "!DS_BUILD_CPU_ADAM=1 DS_BUILD_SPARSE_ATTN=1 pip install deepspeed==0.3.7\n",
        "!pip install transformers==3.5.1"
      ],
      "execution_count": null,
      "outputs": [
        {
          "output_type": "stream",
          "text": [
            "Requirement already satisfied: cpufeature in /usr/local/lib/python3.7/dist-packages (0.2.0)\n",
            "Collecting triton==0.2.3\n",
            "  Using cached https://files.pythonhosted.org/packages/a9/3b/7b9c8619e9eb4e0eb3cf9e01dccd1b85161f5d9e452d7fbf3aca23a62675/triton-0.2.3.tar.gz\n",
            "\u001b[31mERROR: Command errored out with exit status 1: python setup.py egg_info Check the logs for full command output.\u001b[0m\n",
            "Collecting deepspeed==0.3.7\n",
            "  Using cached https://files.pythonhosted.org/packages/1f/f6/4de24b5790621e9eb787b7e4d90a57075ebbb85e81100a0dc8c50fdba8ba/deepspeed-0.3.7.tar.gz\n",
            "\u001b[31mERROR: Command errored out with exit status 1: python setup.py egg_info Check the logs for full command output.\u001b[0m\n",
            "Requirement already satisfied: transformers in /usr/local/lib/python3.7/dist-packages (3.5.0)\n",
            "Requirement already satisfied: tqdm>=4.27 in /usr/local/lib/python3.7/dist-packages (from transformers) (4.41.1)\n",
            "Requirement already satisfied: protobuf in /usr/local/lib/python3.7/dist-packages (from transformers) (3.12.4)\n",
            "Requirement already satisfied: tokenizers==0.9.3 in /usr/local/lib/python3.7/dist-packages (from transformers) (0.9.3)\n",
            "Requirement already satisfied: sacremoses in /usr/local/lib/python3.7/dist-packages (from transformers) (0.0.43)\n",
            "Requirement already satisfied: packaging in /usr/local/lib/python3.7/dist-packages (from transformers) (20.9)\n",
            "Requirement already satisfied: numpy in /usr/local/lib/python3.7/dist-packages (from transformers) (1.19.5)\n",
            "Requirement already satisfied: filelock in /usr/local/lib/python3.7/dist-packages (from transformers) (3.0.12)\n",
            "Requirement already satisfied: regex!=2019.12.17 in /usr/local/lib/python3.7/dist-packages (from transformers) (2019.12.20)\n",
            "Requirement already satisfied: sentencepiece==0.1.91 in /usr/local/lib/python3.7/dist-packages (from transformers) (0.1.91)\n",
            "Requirement already satisfied: requests in /usr/local/lib/python3.7/dist-packages (from transformers) (2.23.0)\n",
            "Requirement already satisfied: setuptools in /usr/local/lib/python3.7/dist-packages (from protobuf->transformers) (54.0.0)\n",
            "Requirement already satisfied: six>=1.9 in /usr/local/lib/python3.7/dist-packages (from protobuf->transformers) (1.15.0)\n",
            "Requirement already satisfied: click in /usr/local/lib/python3.7/dist-packages (from sacremoses->transformers) (7.1.2)\n",
            "Requirement already satisfied: joblib in /usr/local/lib/python3.7/dist-packages (from sacremoses->transformers) (1.0.1)\n",
            "Requirement already satisfied: pyparsing>=2.0.2 in /usr/local/lib/python3.7/dist-packages (from packaging->transformers) (2.4.7)\n",
            "Requirement already satisfied: urllib3!=1.25.0,!=1.25.1,<1.26,>=1.21.1 in /usr/local/lib/python3.7/dist-packages (from requests->transformers) (1.24.3)\n",
            "Requirement already satisfied: certifi>=2017.4.17 in /usr/local/lib/python3.7/dist-packages (from requests->transformers) (2020.12.5)\n",
            "Requirement already satisfied: idna<3,>=2.5 in /usr/local/lib/python3.7/dist-packages (from requests->transformers) (2.10)\n",
            "Requirement already satisfied: chardet<4,>=3.0.2 in /usr/local/lib/python3.7/dist-packages (from requests->transformers) (3.0.4)\n",
            "Requirement already satisfied: torch in /usr/local/lib/python3.7/dist-packages (1.4.0)\n"
          ],
          "name": "stdout"
        }
      ]
    },
    {
      "cell_type": "markdown",
      "metadata": {
        "id": "7vHmgoNzj1gC"
      },
      "source": [
        "Тетрадка с генерацией примеров квестов с разными параметрами генерации с использованием фрагментов не использованных при обучении текстовых квестов и подсчетом метрик\n"
      ]
    },
    {
      "cell_type": "code",
      "metadata": {
        "id": "Dsk3kYcDCKlB"
      },
      "source": [
        ""
      ],
      "execution_count": null,
      "outputs": []
    },
    {
      "cell_type": "code",
      "metadata": {
        "colab": {
          "base_uri": "https://localhost:8080/"
        },
        "id": "2E3L1fFOCKn_",
        "outputId": "583c73e6-730d-48bc-8015-09015bb43127"
      },
      "source": [
        "\n",
        "!pip install torch.optim"
      ],
      "execution_count": null,
      "outputs": [
        {
          "output_type": "stream",
          "text": [
            "\u001b[31mERROR: Could not find a version that satisfies the requirement torch.optim (from versions: none)\u001b[0m\n",
            "\u001b[31mERROR: No matching distribution found for torch.optim\u001b[0m\n"
          ],
          "name": "stdout"
        }
      ]
    },
    {
      "cell_type": "code",
      "metadata": {
        "colab": {
          "base_uri": "https://localhost:8080/"
        },
        "id": "_xZxQSq_mP0U",
        "outputId": "099d75bf-3a7e-45f5-87ce-904b2e1628f6"
      },
      "source": [
        "\n",
        "from google.colab import drive\n",
        "drive.mount('/content/gdrive')"
      ],
      "execution_count": null,
      "outputs": [
        {
          "output_type": "stream",
          "text": [
            "Mounted at /content/gdrive\n"
          ],
          "name": "stdout"
        }
      ]
    },
    {
      "cell_type": "code",
      "metadata": {
        "id": "ynKYBruGpVp5"
      },
      "source": [
        "import random\n",
        "import os\n",
        "from transformers import GPT2LMHeadModel, GPT2Tokenizer\n",
        "import re \n",
        "from tqdm import tqdm\n",
        "import json\n",
        "import pandas as pd\n",
        "import statistics"
      ],
      "execution_count": null,
      "outputs": []
    },
    {
      "cell_type": "code",
      "metadata": {
        "id": "xxcDOKcxpVrq"
      },
      "source": [
        "os.chdir('gdrive/MyDrive')"
      ],
      "execution_count": null,
      "outputs": []
    },
    {
      "cell_type": "code",
      "metadata": {
        "id": "VIEPG7G6o5M9"
      },
      "source": [
        "test_file = os.listdir('Quest_data/questbook_fragments_json')[0]"
      ],
      "execution_count": null,
      "outputs": []
    },
    {
      "cell_type": "code",
      "metadata": {
        "id": "jJr7Qgf2o5PZ"
      },
      "source": [
        "with open(os.path.join('Quest_data/questbook_fragments_json', test_file)) as f:\n",
        "  test_data = json.load(f)"
      ],
      "execution_count": null,
      "outputs": []
    },
    {
      "cell_type": "code",
      "metadata": {
        "id": "dOYDr84JpypM"
      },
      "source": [
        "QUEST_FRAGMENTS_DIRECTORY = 'Quest_data/questbook_fragments_json'\n",
        "quest_starts = []\n",
        "for file in os.listdir(QUEST_FRAGMENTS_DIRECTORY):\n",
        "    with open(os.path.join(QUEST_FRAGMENTS_DIRECTORY, file)) as f:\n",
        "        fragments = json.load(f)\n",
        "       # print(len(fragments))\n",
        "       # print(type(fragments))\n",
        "    fragments_ids = list(fragments.keys())\n",
        "    if fragments_ids:\n",
        "        digit_ids = [fragment_id for fragment_id in fragments_ids if fragment_id.isdigit()]\n",
        "        if digit_ids:\n",
        "            chosen_id = sorted(digit_ids, key=lambda x: int(x))[0]\n",
        "        else:\n",
        "            chosen_id = random.choice(fragments_ids)\n",
        "        quest_starts.append(fragments[chosen_id])"
      ],
      "execution_count": null,
      "outputs": []
    },
    {
      "cell_type": "code",
      "metadata": {
        "colab": {
          "base_uri": "https://localhost:8080/"
        },
        "id": "AS1_odjstllE",
        "outputId": "4ac8c270-81d0-4388-e918-1e3d2685cb73"
      },
      "source": [
        "len(quest_starts)"
      ],
      "execution_count": null,
      "outputs": [
        {
          "output_type": "execute_result",
          "data": {
            "text/plain": [
              "136"
            ]
          },
          "metadata": {
            "tags": []
          },
          "execution_count": 33
        }
      ]
    },
    {
      "cell_type": "code",
      "metadata": {
        "id": "V6VnIUmqupBU"
      },
      "source": [
        "with open('first_quest_fragments4test.json', 'w', encoding='utf-8') as f:\n",
        "    json.dump(quest_starts, f)"
      ],
      "execution_count": null,
      "outputs": []
    },
    {
      "cell_type": "code",
      "metadata": {
        "id": "opojfRtZzIdA"
      },
      "source": [
        "with open('first_quest_fragments4test.json', encoding='utf-8') as f:\n",
        "    quest_starts = json.load(f)"
      ],
      "execution_count": null,
      "outputs": []
    },
    {
      "cell_type": "code",
      "metadata": {
        "colab": {
          "background_save": true
        },
        "id": "D--m7mc0ogUk"
      },
      "source": [
        "TOKENIZER_PATH = \"home/jovyan/devices/quests/hf\"\n",
        "MODEL_PATH = \"home/jovyan/devices/quests/hf\"\n",
        "\n",
        "gpt_model = GPT2LMHeadModel.from_pretrained(MODEL_PATH)\n",
        "tokenizer = GPT2Tokenizer.from_pretrained(TOKENIZER_PATH)"
      ],
      "execution_count": null,
      "outputs": []
    },
    {
      "cell_type": "code",
      "metadata": {
        "colab": {
          "background_save": true
        },
        "id": "7fNEHvijvj7t"
      },
      "source": [
        "gpt_model.cuda()"
      ],
      "execution_count": null,
      "outputs": []
    },
    {
      "cell_type": "code",
      "metadata": {
        "colab": {
          "background_save": true
        },
        "id": "SzFuVj0fvmku"
      },
      "source": [
        "class GptGenerator:\n",
        "    def __init__(self, gpt_model, tokenizer, max_pretext_length = 2048):\n",
        "        self.gpt_model = gpt_model\n",
        "        self.tokenizer = tokenizer\n",
        "        self.__max_pretext_length = max_pretext_length\n",
        "        self.tokenizer.add_special_tokens({\"bos_token\": \"<s>\"})\n",
        "        self.tokenizer.add_special_tokens({\"eos_token\": \"</s>\"})      \n",
        "        \n",
        "        self.default_greedy_temperature = 1\n",
        "        self.default_not_greedy_temperature = 1.5\n",
        "    \n",
        "     \n",
        "    def get_next_steps(self, text, max_length=200, greedy=False, temperature=None, num_beams=None):\n",
        "        pretext_length = len(text)\n",
        "        input_idx = self.tokenizer.encode(text, return_tensors='pt').cuda()\n",
        "        if input_idx.shape[1] > self.__max_pretext_length-max_length:\n",
        "            input_idx = input_idx[:, -(self.__max_pretext_length-max_length):]\n",
        "            used_pretext = tokenizer.decode(input_idx[0])\n",
        "            pretext_length = len(used_pretext)\n",
        "        if temperature == None:\n",
        "            if greedy:\n",
        "                temperature = self.default_greedy_temperature\n",
        "            else:\n",
        "                temperature = self.default_not_greedy_temperature\n",
        "        if greedy:\n",
        "             encoded_new_text = self.gpt_model.generate(input_idx, max_length=self.__max_pretext_length, temperature=temperature, repetition_penalty=5.0, top_k=5, top_p=0.95)[0]\n",
        "        else:\n",
        "           # encoded_new_text = self.gpt_model.generate(input_idx, max_length=pretext_length+max_length, num_beams=num_beams, temperature=temperature\n",
        "           encoded_new_text = self.gpt_model.generate(input_idx, max_length=self.__max_pretext_length, num_beams=num_beams, temperature=temperature, do_sample=True)[0]         \n",
        "        new_text = self.tokenizer.decode(encoded_new_text)\n",
        "        return new_text[pretext_length:]"
      ],
      "execution_count": null,
      "outputs": []
    },
    {
      "cell_type": "code",
      "metadata": {
        "id": "WrhsvkqFv60l"
      },
      "source": [
        "gpt_generator = GptGenerator(gpt_model, tokenizer)"
      ],
      "execution_count": null,
      "outputs": []
    },
    {
      "cell_type": "code",
      "metadata": {
        "id": "AfUvSYv2v624"
      },
      "source": [
        "current_test_dir = os.path.join('test_generation', '3_beams_button_input')"
      ],
      "execution_count": null,
      "outputs": []
    },
    {
      "cell_type": "code",
      "metadata": {
        "id": "v_Few0O-zhz2"
      },
      "source": [
        "os.mkdir(current_test_dir)"
      ],
      "execution_count": null,
      "outputs": []
    },
    {
      "cell_type": "code",
      "metadata": {
        "id": "9ujyKmxexMsq"
      },
      "source": [
        "MAX_TEXT_LENGTH = 250000\n",
        "MAX_FRAGMENTS = 75"
      ],
      "execution_count": null,
      "outputs": []
    },
    {
      "cell_type": "code",
      "metadata": {
        "colab": {
          "base_uri": "https://localhost:8080/"
        },
        "id": "Avr_5TlF1wFH",
        "outputId": "e316f10f-3952-4f52-8a6c-654eec8d6651"
      },
      "source": [
        "start_from = 135\n",
        "for i, fragment in tqdm(enumerate(quest_starts[start_from:])):\n",
        "    print(i+start_from)\n",
        "    text = '\\n'.join(['BOQ', 'BOF', fragment, 'BUTTON'])\n",
        "    prev_text_len = 0\n",
        "    while 'EOQ' not in text and len(text) < MAX_TEXT_LENGTH and len(re.findall('BOF', text)) < MAX_FRAGMENTS and len(text) > prev_text_len:\n",
        "        prev_text_len = len(text)\n",
        "        text += gpt_generator.get_next_steps(text, num_beams=3)\n",
        "    with open(os.path.join(current_test_dir, str(i+start_from)+'.txt'), 'w', encoding='utf-8') as f:\n",
        "        f.write(text)\n",
        "           "
      ],
      "execution_count": null,
      "outputs": [
        {
          "output_type": "stream",
          "text": [
            "\r0it [00:00, ?it/s]Setting `pad_token_id` to `eos_token_id`:50256 for open-end generation.\n"
          ],
          "name": "stderr"
        },
        {
          "output_type": "stream",
          "text": [
            "135\n"
          ],
          "name": "stdout"
        },
        {
          "output_type": "stream",
          "text": [
            "1it [01:39, 99.84s/it]\n"
          ],
          "name": "stderr"
        }
      ]
    },
    {
      "cell_type": "code",
      "metadata": {
        "id": "z0WeENc0pT7j"
      },
      "source": [
        "def count_mean_fragment_len(quest):\n",
        "    parts = quest.split('BOF')\n",
        "    if len(parts) > 2:\n",
        "        # Part 0 is a technical part before the first fragment, part 1 is a fragment which is not generated\n",
        "        generated_parts = parts[2:]\n",
        "        fragments_without_buttons = [part.split('BUTTON')[0] for part in parts]\n",
        "        return statistics.mean([len(fragment) for fragment in fragments_without_buttons])"
      ],
      "execution_count": null,
      "outputs": []
    },
    {
      "cell_type": "code",
      "metadata": {
        "colab": {
          "base_uri": "https://localhost:8080/"
        },
        "id": "hsm2AY4H5FRZ",
        "outputId": "40780971-5a45-4587-aadf-dd0be02ac69e"
      },
      "source": [
        "len(os.listdir(current_test_dir))"
      ],
      "execution_count": null,
      "outputs": [
        {
          "output_type": "execute_result",
          "data": {
            "text/plain": [
              "135"
            ]
          },
          "metadata": {
            "tags": []
          },
          "execution_count": 8
        }
      ]
    },
    {
      "cell_type": "code",
      "metadata": {
        "id": "22uOb_H39ALz"
      },
      "source": [
        "finished_quests_metrics = pd.DataFrame(columns = ['quest_file', 'total_len', 'num_fragments', 'num_buttons', 'mean_fragment_len'])\n",
        "\n",
        "for file_name in os.listdir(current_test_dir):\n",
        "    file_path = os.path.join(current_test_dir, file_name)\n",
        "    with open(file_path, encoding='utf-8') as f:\n",
        "        text = f.read()\n",
        "    if 'EOQ' in text:\n",
        "        quest = text.split('EOQ')[0]\n",
        "        total_len = len(quest)\n",
        "        num_fragments = len(re.findall('BOF', quest))\n",
        "        num_buttons = len(re.findall('BUTTON', quest))\n",
        "        mean_fragment_len = count_mean_fragment_len(quest)\n",
        "        finished_quests_metrics.loc[len(finished_quests_metrics)] = [file_name, total_len, num_fragments, num_buttons, mean_fragment_len]\n"
      ],
      "execution_count": null,
      "outputs": []
    },
    {
      "cell_type": "code",
      "metadata": {
        "colab": {
          "base_uri": "https://localhost:8080/"
        },
        "id": "JvkemjeXBdtb",
        "outputId": "7e020626-6ee4-4200-855c-d4690cad08a2"
      },
      "source": [
        "#количество законченных квестов\n",
        "len(finished_quests_metrics)"
      ],
      "execution_count": null,
      "outputs": [
        {
          "output_type": "execute_result",
          "data": {
            "text/plain": [
              "120"
            ]
          },
          "metadata": {
            "tags": []
          },
          "execution_count": 14
        }
      ]
    },
    {
      "cell_type": "code",
      "metadata": {
        "colab": {
          "base_uri": "https://localhost:8080/"
        },
        "id": "EeWyA7LcBikQ",
        "outputId": "a5591655-9936-4529-e48b-b7c32285f3b7"
      },
      "source": [
        "#доля законченных квестов\n",
        "120/135"
      ],
      "execution_count": null,
      "outputs": [
        {
          "output_type": "execute_result",
          "data": {
            "text/plain": [
              "0.8888888888888888"
            ]
          },
          "metadata": {
            "tags": []
          },
          "execution_count": 15
        }
      ]
    },
    {
      "cell_type": "code",
      "metadata": {
        "id": "wbBaIrSuDGdQ"
      },
      "source": [
        "def count_mean_num_buttons_for_finished_quest(num_fragments, num_buttons):\n",
        "    return num_buttons/(num_fragments-1) if num_fragments > 1 else 0"
      ],
      "execution_count": null,
      "outputs": []
    },
    {
      "cell_type": "code",
      "metadata": {
        "id": "3q2Y7hl1GNjR"
      },
      "source": [
        "for column in ['total_len', 'num_buttons', 'num_fragments', 'mean_fragment_len']:\n",
        "    finished_quests_metrics[column] = pd.to_numeric(finished_quests_metrics[column])"
      ],
      "execution_count": null,
      "outputs": []
    },
    {
      "cell_type": "code",
      "metadata": {
        "id": "9cLBave6BsR1"
      },
      "source": [
        "finished_quests_metrics['buttons_for_fragment'] = finished_quests_metrics.apply(lambda x: count_mean_num_buttons_for_finished_quest(x.num_fragments, x.num_buttons), axis=1)"
      ],
      "execution_count": null,
      "outputs": []
    },
    {
      "cell_type": "code",
      "metadata": {
        "colab": {
          "base_uri": "https://localhost:8080/",
          "height": 294
        },
        "id": "AURV30gTD_ap",
        "outputId": "ecd67fe5-29fe-4b41-8a52-63631043024a"
      },
      "source": [
        "finished_quests_metrics.loc[:, ['total_len', 'num_fragments', 'buttons_for_fragment', 'mean_fragment_len']].describe()"
      ],
      "execution_count": null,
      "outputs": [
        {
          "output_type": "execute_result",
          "data": {
            "text/html": [
              "<div>\n",
              "<style scoped>\n",
              "    .dataframe tbody tr th:only-of-type {\n",
              "        vertical-align: middle;\n",
              "    }\n",
              "\n",
              "    .dataframe tbody tr th {\n",
              "        vertical-align: top;\n",
              "    }\n",
              "\n",
              "    .dataframe thead th {\n",
              "        text-align: right;\n",
              "    }\n",
              "</style>\n",
              "<table border=\"1\" class=\"dataframe\">\n",
              "  <thead>\n",
              "    <tr style=\"text-align: right;\">\n",
              "      <th></th>\n",
              "      <th>total_len</th>\n",
              "      <th>num_fragments</th>\n",
              "      <th>buttons_for_fragment</th>\n",
              "      <th>mean_fragment_len</th>\n",
              "    </tr>\n",
              "  </thead>\n",
              "  <tbody>\n",
              "    <tr>\n",
              "      <th>count</th>\n",
              "      <td>120.000000</td>\n",
              "      <td>120.000000</td>\n",
              "      <td>120.000000</td>\n",
              "      <td>119.000000</td>\n",
              "    </tr>\n",
              "    <tr>\n",
              "      <th>mean</th>\n",
              "      <td>17224.191667</td>\n",
              "      <td>20.875000</td>\n",
              "      <td>1.734796</td>\n",
              "      <td>774.461946</td>\n",
              "    </tr>\n",
              "    <tr>\n",
              "      <th>std</th>\n",
              "      <td>19552.427779</td>\n",
              "      <td>16.437589</td>\n",
              "      <td>0.622334</td>\n",
              "      <td>990.192966</td>\n",
              "    </tr>\n",
              "    <tr>\n",
              "      <th>min</th>\n",
              "      <td>147.000000</td>\n",
              "      <td>1.000000</td>\n",
              "      <td>0.000000</td>\n",
              "      <td>150.909091</td>\n",
              "    </tr>\n",
              "    <tr>\n",
              "      <th>25%</th>\n",
              "      <td>5431.250000</td>\n",
              "      <td>9.000000</td>\n",
              "      <td>1.495690</td>\n",
              "      <td>383.331169</td>\n",
              "    </tr>\n",
              "    <tr>\n",
              "      <th>50%</th>\n",
              "      <td>9847.000000</td>\n",
              "      <td>16.000000</td>\n",
              "      <td>1.629573</td>\n",
              "      <td>580.609375</td>\n",
              "    </tr>\n",
              "    <tr>\n",
              "      <th>75%</th>\n",
              "      <td>20334.000000</td>\n",
              "      <td>29.000000</td>\n",
              "      <td>1.857143</td>\n",
              "      <td>763.870588</td>\n",
              "    </tr>\n",
              "    <tr>\n",
              "      <th>max</th>\n",
              "      <td>113796.000000</td>\n",
              "      <td>80.000000</td>\n",
              "      <td>6.000000</td>\n",
              "      <td>7507.066667</td>\n",
              "    </tr>\n",
              "  </tbody>\n",
              "</table>\n",
              "</div>"
            ],
            "text/plain": [
              "           total_len  num_fragments  buttons_for_fragment  mean_fragment_len\n",
              "count     120.000000     120.000000            120.000000         119.000000\n",
              "mean    17224.191667      20.875000              1.734796         774.461946\n",
              "std     19552.427779      16.437589              0.622334         990.192966\n",
              "min       147.000000       1.000000              0.000000         150.909091\n",
              "25%      5431.250000       9.000000              1.495690         383.331169\n",
              "50%      9847.000000      16.000000              1.629573         580.609375\n",
              "75%     20334.000000      29.000000              1.857143         763.870588\n",
              "max    113796.000000      80.000000              6.000000        7507.066667"
            ]
          },
          "metadata": {
            "tags": []
          },
          "execution_count": 15
        }
      ]
    },
    {
      "cell_type": "code",
      "metadata": {
        "id": "3PUhu3CIHlfz"
      },
      "source": [
        "source_data_directory = os.path.join('Quest_data', 'quest_book_online_random_paths_text')"
      ],
      "execution_count": null,
      "outputs": []
    },
    {
      "cell_type": "code",
      "metadata": {
        "colab": {
          "base_uri": "https://localhost:8080/"
        },
        "id": "sMQzKfugIfgQ",
        "outputId": "56de4e37-4031-4ff7-85ca-5b2af0f3cafb"
      },
      "source": [
        "import nltk\n",
        "nltk.download('punkt')"
      ],
      "execution_count": null,
      "outputs": [
        {
          "output_type": "stream",
          "text": [
            "[nltk_data] Downloading package punkt to /root/nltk_data...\n",
            "[nltk_data]   Unzipping tokenizers/punkt.zip.\n"
          ],
          "name": "stdout"
        },
        {
          "output_type": "execute_result",
          "data": {
            "text/plain": [
              "True"
            ]
          },
          "metadata": {
            "tags": []
          },
          "execution_count": 7
        }
      ]
    },
    {
      "cell_type": "code",
      "metadata": {
        "id": "wNOm3OrzIkan"
      },
      "source": [
        "from nltk.tokenize import sent_tokenize\n",
        "from collections import defaultdict\n",
        "from tqdm import tqdm"
      ],
      "execution_count": null,
      "outputs": []
    },
    {
      "cell_type": "code",
      "metadata": {
        "colab": {
          "base_uri": "https://localhost:8080/"
        },
        "id": "NTANv1_xIWSZ",
        "outputId": "980d8693-45be-472a-e9c7-9b29fe364b15"
      },
      "source": [
        "source_sents = defaultdict(set)\n",
        "for quest_directory in tqdm(os.listdir(source_data_directory)):\n",
        "    quest_directory_path = os.path.join(source_data_directory, quest_directory)\n",
        "    if os.path.isdir(quest_directory_path):\n",
        "        for text_option_file in os.listdir(quest_directory_path):\n",
        "            with open(os.path.join(source_data_directory, quest_directory, text_option_file), encoding='utf-8') as f:\n",
        "                text_option = f.read()\n",
        "            text_without_tags = re.sub('BO[QF]|EOQ|BUTTON|INPUT', '', text_option)\n",
        "            current_option_sents = sent_tokenize(text_without_tags, 'russian')\n",
        "            source_sents[quest_directory] = source_sents[quest_directory].union(current_option_sents)"
      ],
      "execution_count": null,
      "outputs": [
        {
          "output_type": "stream",
          "text": [
            "100%|██████████| 128/128 [29:17<00:00, 13.73s/it]\n"
          ],
          "name": "stderr"
        }
      ]
    },
    {
      "cell_type": "code",
      "metadata": {
        "id": "F5LkXxaWUUlq"
      },
      "source": [
        "with open('source_sents.json', encoding='utf-8') as f:\n",
        "    source_sents = {key:set(value) for key, value in json.load(f).items()}"
      ],
      "execution_count": null,
      "outputs": []
    },
    {
      "cell_type": "code",
      "metadata": {
        "id": "fu13G0_LZ5uo"
      },
      "source": [
        "def get_source(sent):\n",
        "    source = 'new_sent'\n",
        "    for source_quest in source_sents:\n",
        "        if sent in source_sents[source_quest]:\n",
        "            source = source_quest\n",
        "            break\n",
        "    return source"
      ],
      "execution_count": null,
      "outputs": []
    },
    {
      "cell_type": "code",
      "metadata": {
        "id": "pqzpBcHodE09"
      },
      "source": [
        "text2source_seq = {}\n",
        "\n",
        "for file_name in tqdm(os.listdir(current_test_dir)):\n",
        "    file_path = os.path.join(current_test_dir, file_name)\n",
        "    with open(file_path, encoding='utf-8') as f:\n",
        "        text = f.read()\n",
        "    if 'EOQ' in text:\n",
        "        quest = text.split('EOQ')[0]\n",
        "    else:\n",
        "        quest = text\n",
        "    text_without_tags = re.sub('BO[QF]|BUTTON|INPUT', '', quest)\n",
        "    sents = sent_tokenize(text_without_tags, 'russian')\n",
        "    sources = [get_source(sent) for sent in sents if len(sent.split())>1]\n",
        "    text2source_seq[file_name] = sources\n",
        "with open('generated_quests_sources.json', 'w', encoding='utf-8') as f:\n",
        "    json.dump(text2source_seq, f)"
      ],
      "execution_count": null,
      "outputs": []
    },
    {
      "cell_type": "code",
      "metadata": {
        "id": "mzeoMGXNduby"
      },
      "source": [
        "known_beginnings_original_sents_rates = []\n",
        "unknown_beginnings_original_sents_rates = []\n",
        "\n",
        "known_beginnings_original_sents_num_soarces = []\n",
        "unknown_beginnings_original_sents_num_soarces = []\n",
        "\n",
        "for quest, source_seq in text2source_seq.items():\n",
        "    if source_seq:\n",
        "        num_original_sents = len([source for source in source_seq if source == 'new_sent'])\n",
        "        original_sents_rate = num_original_sents/len(source_seq)\n",
        "        num_soarces = len(set([source for source in source_seq if source != 'new_sent']))\n",
        "        if source_seq[0] == 'new_sent':\n",
        "            unknown_beginnings_original_sents_rates.append(original_sents_rate)\n",
        "            unknown_beginnings_original_sents_num_soarces.append(num_soarces)\n",
        "        else:\n",
        "            known_beginnings_original_sents_rates.append(original_sents_rate)\n",
        "            known_beginnings_original_sents_num_soarces.append(num_soarces)"
      ],
      "execution_count": null,
      "outputs": []
    },
    {
      "cell_type": "markdown",
      "metadata": {
        "id": "DULHWFajh1ST"
      },
      "source": [
        "Доля предложений, которых не было в обучающих данных, для квестов с новым и встретившимся в тестовых данных началом"
      ]
    },
    {
      "cell_type": "code",
      "metadata": {
        "colab": {
          "base_uri": "https://localhost:8080/"
        },
        "id": "DufvN_2jgAVX",
        "outputId": "eca5cdfc-5291-497b-f383-225e6400d05d"
      },
      "source": [
        "known_beginnings_original_sents_rates"
      ],
      "execution_count": null,
      "outputs": [
        {
          "output_type": "execute_result",
          "data": {
            "text/plain": [
              "[0.0, 0.1897810218978102]"
            ]
          },
          "metadata": {
            "tags": []
          },
          "execution_count": 84
        }
      ]
    },
    {
      "cell_type": "code",
      "metadata": {
        "colab": {
          "base_uri": "https://localhost:8080/"
        },
        "id": "zmnObeqtiiAv",
        "outputId": "444a8ac3-1d98-4086-aceb-a776dad4eb46"
      },
      "source": [
        "pd.Series(unknown_beginnings_original_sents_rates).describe()"
      ],
      "execution_count": null,
      "outputs": [
        {
          "output_type": "execute_result",
          "data": {
            "text/plain": [
              "count    133.000000\n",
              "mean       0.589149\n",
              "std        0.336207\n",
              "min        0.002703\n",
              "25%        0.250000\n",
              "50%        0.617729\n",
              "75%        0.909774\n",
              "max        1.000000\n",
              "dtype: float64"
            ]
          },
          "metadata": {
            "tags": []
          },
          "execution_count": 91
        }
      ]
    },
    {
      "cell_type": "markdown",
      "metadata": {
        "id": "wqlXS_fniBmk"
      },
      "source": [
        "Количество различных источников из обучающих данных для квестов с новым и встретившимся в тестовых данных началом.\n",
        "Количество может быть завышено, если предложение встречалось в нескольких квестах"
      ]
    },
    {
      "cell_type": "code",
      "metadata": {
        "colab": {
          "base_uri": "https://localhost:8080/"
        },
        "id": "XZ2h2zA_hm2U",
        "outputId": "98b5ddc6-56ce-4fcf-9acc-897f620f2219"
      },
      "source": [
        "known_beginnings_original_sents_num_soarces"
      ],
      "execution_count": null,
      "outputs": [
        {
          "output_type": "execute_result",
          "data": {
            "text/plain": [
              "[4, 9]"
            ]
          },
          "metadata": {
            "tags": []
          },
          "execution_count": 89
        }
      ]
    },
    {
      "cell_type": "code",
      "metadata": {
        "colab": {
          "base_uri": "https://localhost:8080/"
        },
        "id": "2uNZAW11hsyE",
        "outputId": "83d3e57e-c706-47a3-d457-a7b239fe37b2"
      },
      "source": [
        "pd.Series(unknown_beginnings_original_sents_num_soarces).describe()"
      ],
      "execution_count": null,
      "outputs": [
        {
          "output_type": "execute_result",
          "data": {
            "text/plain": [
              "count    133.000000\n",
              "mean       7.308271\n",
              "std        6.602548\n",
              "min        0.000000\n",
              "25%        2.000000\n",
              "50%        5.000000\n",
              "75%       10.000000\n",
              "max       29.000000\n",
              "dtype: float64"
            ]
          },
          "metadata": {
            "tags": []
          },
          "execution_count": 92
        }
      ]
    },
    {
      "cell_type": "markdown",
      "metadata": {
        "id": "Z-PVu3C6oI_j"
      },
      "source": [
        "Посмотрим, какие предложения тригерят начало воспроизведения известного фрагмента и начинает ли после этого воспроизводиться цепочка предложений из известного квеста"
      ]
    },
    {
      "cell_type": "code",
      "metadata": {
        "colab": {
          "base_uri": "https://localhost:8080/"
        },
        "id": "CDEnu77koG18",
        "outputId": "c5147982-55a9-4a9e-c2a1-fee9f56c0a8d"
      },
      "source": [
        "triggers = pd.DataFrame(columns=['trigger', 'known_sent', 'caused_next_known_seq'])\n",
        "\n",
        "\n",
        "for file_name in tqdm(os.listdir(current_test_dir)):\n",
        "    file_path = os.path.join(current_test_dir, file_name)\n",
        "    with open(file_path, encoding='utf-8') as f:\n",
        "        text = f.read()\n",
        "    if 'EOQ' in text:\n",
        "        quest = text.split('EOQ')[0]\n",
        "    else:\n",
        "        quest = text\n",
        "    text_without_tags = re.sub('BO[QF]|BUTTON|INPUT', '', quest)\n",
        "    sents = sent_tokenize(text_without_tags, 'russian')\n",
        "    previous_sent_source = None\n",
        "    no_current_quest_seqs = True\n",
        "    for i, sent in enumerate(sents):\n",
        "        current_sent_source = get_source(sent)\n",
        "        if i and current_sent_source != 'new_sent':\n",
        "            if previous_sent_source == 'new_sent':\n",
        "                no_current_quest_seqs = False\n",
        "                trigger = sents[i-1]\n",
        "                known_sent = sents[i]\n",
        "                triggers.loc[len(triggers)] = [trigger, known_sent, False]\n",
        "                check_seq = True\n",
        "            elif len(triggers) and current_sent_source==previous_sent_source and not no_current_quest_seqs:\n",
        "                triggers['caused_next_known_seq'][len(triggers)-1] = True\n",
        "           \n",
        "        previous_sent_source = current_sent_source\n",
        "        "
      ],
      "execution_count": null,
      "outputs": [
        {
          "output_type": "stream",
          "text": [
            "100%|██████████| 135/135 [00:37<00:00,  3.64it/s]\n"
          ],
          "name": "stderr"
        }
      ]
    },
    {
      "cell_type": "code",
      "metadata": {
        "id": "VUVYCsVitKvN"
      },
      "source": [
        "triggers.to_csv('triggers.csv')"
      ],
      "execution_count": null,
      "outputs": []
    },
    {
      "cell_type": "code",
      "metadata": {
        "colab": {
          "base_uri": "https://localhost:8080/"
        },
        "id": "4srKdG09oGB3",
        "outputId": "816037ad-5d1d-49a3-bbad-7ac72acac1fb"
      },
      "source": [
        "len(triggers)"
      ],
      "execution_count": null,
      "outputs": [
        {
          "output_type": "execute_result",
          "data": {
            "text/plain": [
              "1891"
            ]
          },
          "metadata": {
            "tags": []
          },
          "execution_count": 112
        }
      ]
    },
    {
      "cell_type": "code",
      "metadata": {
        "colab": {
          "base_uri": "https://localhost:8080/",
          "height": 419
        },
        "id": "GcorAPabqRYW",
        "outputId": "a494c8cb-335f-432b-b137-2de6a096c76b"
      },
      "source": [
        "triggers"
      ],
      "execution_count": null,
      "outputs": [
        {
          "output_type": "execute_result",
          "data": {
            "text/html": [
              "<div>\n",
              "<style scoped>\n",
              "    .dataframe tbody tr th:only-of-type {\n",
              "        vertical-align: middle;\n",
              "    }\n",
              "\n",
              "    .dataframe tbody tr th {\n",
              "        vertical-align: top;\n",
              "    }\n",
              "\n",
              "    .dataframe thead th {\n",
              "        text-align: right;\n",
              "    }\n",
              "</style>\n",
              "<table border=\"1\" class=\"dataframe\">\n",
              "  <thead>\n",
              "    <tr style=\"text-align: right;\">\n",
              "      <th></th>\n",
              "      <th>trigger</th>\n",
              "      <th>known_sent</th>\n",
              "      <th>caused_next_known_seq</th>\n",
              "    </tr>\n",
              "  </thead>\n",
              "  <tbody>\n",
              "    <tr>\n",
              "      <th>0</th>\n",
              "      <td>Уже почти стемнело,   когда   вы   с   Лосиным...</td>\n",
              "      <td>— Эй!</td>\n",
              "      <td>False</td>\n",
              "    </tr>\n",
              "    <tr>\n",
              "      <th>1</th>\n",
              "      <td>Вы с Лосиным братом бежите навстречу незнакомцам.</td>\n",
              "      <td>Наконец, вы наткнулись на костёр, горящий непо...</td>\n",
              "      <td>False</td>\n",
              "    </tr>\n",
              "    <tr>\n",
              "      <th>2</th>\n",
              "      <td>Однако, несмотря на то, что вокруг было много ...</td>\n",
              "      <td>— Подожди!</td>\n",
              "      <td>False</td>\n",
              "    </tr>\n",
              "    <tr>\n",
              "      <th>3</th>\n",
              "      <td>Вы с Лосиным братом подбегаете.</td>\n",
              "      <td>— Где ты был?</td>\n",
              "      <td>False</td>\n",
              "    </tr>\n",
              "    <tr>\n",
              "      <th>4</th>\n",
              "      <td>Она участвует в каких-то секретных эксперимент...</td>\n",
              "      <td>— Правда?</td>\n",
              "      <td>False</td>\n",
              "    </tr>\n",
              "    <tr>\n",
              "      <th>...</th>\n",
              "      <td>...</td>\n",
              "      <td>...</td>\n",
              "      <td>...</td>\n",
              "    </tr>\n",
              "    <tr>\n",
              "      <th>1886</th>\n",
              "      <td>Хотя он и выглядит полным дурачком, недобрый б...</td>\n",
              "      <td>Дребезжащим голосом старичок говорит: «Славнен...</td>\n",
              "      <td>True</td>\n",
              "    </tr>\n",
              "    <tr>\n",
              "      <th>1887</th>\n",
              "      <td>Что Вы будете делать?</td>\n",
              "      <td>.</td>\n",
              "      <td>False</td>\n",
              "    </tr>\n",
              "    <tr>\n",
              "      <th>1888</th>\n",
              "      <td>-\\tКотенка?</td>\n",
              "      <td>- переспрашиваете Вы.</td>\n",
              "      <td>False</td>\n",
              "    </tr>\n",
              "    <tr>\n",
              "      <th>1889</th>\n",
              "      <td>Да\\n\\nНет\\n\\nНет\\n\\n-\\tОткуда ты знаешь это?</td>\n",
              "      <td>- спрашиваете Вы.</td>\n",
              "      <td>False</td>\n",
              "    </tr>\n",
              "    <tr>\n",
              "      <th>1890</th>\n",
              "      <td>Ваше приключение заканчивается здесь.</td>\n",
              "      <td>конец\\n\\nконец</td>\n",
              "      <td>False</td>\n",
              "    </tr>\n",
              "  </tbody>\n",
              "</table>\n",
              "<p>1891 rows × 3 columns</p>\n",
              "</div>"
            ],
            "text/plain": [
              "                                                trigger  ... caused_next_known_seq\n",
              "0     Уже почти стемнело,   когда   вы   с   Лосиным...  ...                 False\n",
              "1     Вы с Лосиным братом бежите навстречу незнакомцам.  ...                 False\n",
              "2     Однако, несмотря на то, что вокруг было много ...  ...                 False\n",
              "3                       Вы с Лосиным братом подбегаете.  ...                 False\n",
              "4     Она участвует в каких-то секретных эксперимент...  ...                 False\n",
              "...                                                 ...  ...                   ...\n",
              "1886  Хотя он и выглядит полным дурачком, недобрый б...  ...                  True\n",
              "1887                              Что Вы будете делать?  ...                 False\n",
              "1888                                        -\\tКотенка?  ...                 False\n",
              "1889       Да\\n\\nНет\\n\\nНет\\n\\n-\\tОткуда ты знаешь это?  ...                 False\n",
              "1890              Ваше приключение заканчивается здесь.  ...                 False\n",
              "\n",
              "[1891 rows x 3 columns]"
            ]
          },
          "metadata": {
            "tags": []
          },
          "execution_count": 130
        }
      ]
    },
    {
      "cell_type": "code",
      "metadata": {
        "id": "Q-faaSIsvJWC"
      },
      "source": [
        "sequence_triggers = triggers[triggers['caused_next_known_seq']]"
      ],
      "execution_count": null,
      "outputs": []
    },
    {
      "cell_type": "code",
      "metadata": {
        "colab": {
          "base_uri": "https://localhost:8080/",
          "height": 416
        },
        "id": "gGXE-wVUtZQb",
        "outputId": "a3cf957c-66e9-40bc-e642-9ef6535908b2"
      },
      "source": [
        "sequence_triggers"
      ],
      "execution_count": null,
      "outputs": [
        {
          "output_type": "execute_result",
          "data": {
            "text/html": [
              "<div>\n",
              "<style scoped>\n",
              "    .dataframe tbody tr th:only-of-type {\n",
              "        vertical-align: middle;\n",
              "    }\n",
              "\n",
              "    .dataframe tbody tr th {\n",
              "        vertical-align: top;\n",
              "    }\n",
              "\n",
              "    .dataframe thead th {\n",
              "        text-align: right;\n",
              "    }\n",
              "</style>\n",
              "<table border=\"1\" class=\"dataframe\">\n",
              "  <thead>\n",
              "    <tr style=\"text-align: right;\">\n",
              "      <th></th>\n",
              "      <th>trigger</th>\n",
              "      <th>known_sent</th>\n",
              "      <th>caused_next_known_seq</th>\n",
              "    </tr>\n",
              "  </thead>\n",
              "  <tbody>\n",
              "    <tr>\n",
              "      <th>6</th>\n",
              "      <td>Вдруг дверь в балаган распахивается, и в балаг...</td>\n",
              "      <td>Иди на СТРАНИЦУ 41.</td>\n",
              "      <td>True</td>\n",
              "    </tr>\n",
              "    <tr>\n",
              "      <th>12</th>\n",
              "      <td>Но когда ты оказываешься достаточно высоко, чт...</td>\n",
              "      <td>Иди на СТРАНИЦУ 34.</td>\n",
              "      <td>True</td>\n",
              "    </tr>\n",
              "    <tr>\n",
              "      <th>14</th>\n",
              "      <td>Он наклоняется всё ближе и ближе.</td>\n",
              "      <td>— Нет!</td>\n",
              "      <td>True</td>\n",
              "    </tr>\n",
              "    <tr>\n",
              "      <th>17</th>\n",
              "      <td>Ты чувствуешь, как гниющие губы тянутся к твое...</td>\n",
              "      <td>Иди на СТРАНИЦУ 51.</td>\n",
              "      <td>True</td>\n",
              "    </tr>\n",
              "    <tr>\n",
              "      <th>19</th>\n",
              "      <td>У неё начинается головокружение.</td>\n",
              "      <td>Он приближается.</td>\n",
              "      <td>True</td>\n",
              "    </tr>\n",
              "    <tr>\n",
              "      <th>...</th>\n",
              "      <td>...</td>\n",
              "      <td>...</td>\n",
              "      <td>...</td>\n",
              "    </tr>\n",
              "    <tr>\n",
              "      <th>1880</th>\n",
              "      <td>Деревянный меч со звоном падает на пол. Не дав...</td>\n",
              "      <td>Клинок врага пронзил сердце восставшего орка!</td>\n",
              "      <td>True</td>\n",
              "    </tr>\n",
              "    <tr>\n",
              "      <th>1881</th>\n",
              "      <td>[b]Выполни Проверку[/b]\\nСложность -2.</td>\n",
              "      <td>Боевые искусства.</td>\n",
              "      <td>True</td>\n",
              "    </tr>\n",
              "    <tr>\n",
              "      <th>1883</th>\n",
              "      <td>Начать\\n\\nНачать\\n\\nСверкающие глаза шамана ог...</td>\n",
              "      <td>Знай же, что боги с тобой, и да будешь ты наши...</td>\n",
              "      <td>True</td>\n",
              "    </tr>\n",
              "    <tr>\n",
              "      <th>1884</th>\n",
              "      <td>Продолжите путь на север\\n\\nПовернете на запад...</td>\n",
              "      <td>Странно, но он внушает доверие.</td>\n",
              "      <td>True</td>\n",
              "    </tr>\n",
              "    <tr>\n",
              "      <th>1886</th>\n",
              "      <td>Хотя он и выглядит полным дурачком, недобрый б...</td>\n",
              "      <td>Дребезжащим голосом старичок говорит: «Славнен...</td>\n",
              "      <td>True</td>\n",
              "    </tr>\n",
              "  </tbody>\n",
              "</table>\n",
              "<p>477 rows × 3 columns</p>\n",
              "</div>"
            ],
            "text/plain": [
              "                                                trigger  ... caused_next_known_seq\n",
              "6     Вдруг дверь в балаган распахивается, и в балаг...  ...                  True\n",
              "12    Но когда ты оказываешься достаточно высоко, чт...  ...                  True\n",
              "14                    Он наклоняется всё ближе и ближе.  ...                  True\n",
              "17    Ты чувствуешь, как гниющие губы тянутся к твое...  ...                  True\n",
              "19                     У неё начинается головокружение.  ...                  True\n",
              "...                                                 ...  ...                   ...\n",
              "1880  Деревянный меч со звоном падает на пол. Не дав...  ...                  True\n",
              "1881             [b]Выполни Проверку[/b]\\nСложность -2.  ...                  True\n",
              "1883  Начать\\n\\nНачать\\n\\nСверкающие глаза шамана ог...  ...                  True\n",
              "1884  Продолжите путь на север\\n\\nПовернете на запад...  ...                  True\n",
              "1886  Хотя он и выглядит полным дурачком, недобрый б...  ...                  True\n",
              "\n",
              "[477 rows x 3 columns]"
            ]
          },
          "metadata": {
            "tags": []
          },
          "execution_count": 18
        }
      ]
    },
    {
      "cell_type": "markdown",
      "metadata": {
        "id": "40evhGWpxBUm"
      },
      "source": [
        "Я ожидала, что триггерами будут универсальные фразы, не привязанные к конкретному сюжету, например, \"Что делать дальше?\"\n",
        "Фразы такого рода действительно есть ('Иди на СТРАНИЦУ 39.', 'А что ты помнишь?', \n",
        " '— Может быть, в другой раз.\\nОна повесила трубку.'), но также много содерэательных фрагментов. \n",
        "\n",
        " Возможно, сначала генерится что-то приближенное к известному квесту, а потом продолжается он, но это надо проверять"
      ]
    },
    {
      "cell_type": "markdown",
      "metadata": {
        "id": "jRYa0Gg3THmP"
      },
      "source": [
        ""
      ]
    },
    {
      "cell_type": "markdown",
      "metadata": {
        "id": "ZHQRofJSTHs8"
      },
      "source": [
        ""
      ]
    },
    {
      "cell_type": "markdown",
      "metadata": {
        "id": "tz2X2UHmI41n"
      },
      "source": [
        "Посмотрим на результаты с большей температурой генерации"
      ]
    },
    {
      "cell_type": "code",
      "metadata": {
        "id": "qUsLF1rRJW8L"
      },
      "source": [
        "current_test_dir = os.path.join('test_generation', '2.5_temp_3_beams_button_input')"
      ],
      "execution_count": null,
      "outputs": []
    },
    {
      "cell_type": "code",
      "metadata": {
        "id": "BcIQ0vNUI4Gr"
      },
      "source": [
        "finished_quests_metrics = pd.DataFrame(columns = ['quest_file', 'total_len', 'num_fragments', 'num_buttons', 'mean_fragment_len'])\n",
        "\n",
        "for file_name in os.listdir(current_test_dir):\n",
        "    file_path = os.path.join(current_test_dir, file_name)\n",
        "    with open(file_path, encoding='utf-8') as f:\n",
        "        text = f.read()\n",
        "    if 'EOQ' in text:\n",
        "        quest = text.split('EOQ')[0]\n",
        "        total_len = len(quest)\n",
        "        num_fragments = len(re.findall('BOF', quest))\n",
        "        num_buttons = len(re.findall('BUTTON', quest))\n",
        "        mean_fragment_len = count_mean_fragment_len(quest)\n",
        "        finished_quests_metrics.loc[len(finished_quests_metrics)] = [file_name, total_len, num_fragments, num_buttons, mean_fragment_len]\n"
      ],
      "execution_count": null,
      "outputs": []
    },
    {
      "cell_type": "code",
      "metadata": {
        "id": "Sd6UWTKYTwIg"
      },
      "source": [
        "for column in ['total_len', 'num_buttons', 'num_fragments', 'mean_fragment_len']:\n",
        "    finished_quests_metrics[column] = pd.to_numeric(finished_quests_metrics[column])"
      ],
      "execution_count": null,
      "outputs": []
    },
    {
      "cell_type": "code",
      "metadata": {
        "id": "JkcrmhQITwMf"
      },
      "source": [
        "finished_quests_metrics['buttons_for_fragment'] = finished_quests_metrics.apply(lambda x: count_mean_num_buttons_for_finished_quest(x.num_fragments, x.num_buttons), axis=1)"
      ],
      "execution_count": null,
      "outputs": []
    },
    {
      "cell_type": "code",
      "metadata": {
        "colab": {
          "base_uri": "https://localhost:8080/",
          "height": 294
        },
        "id": "yr2MZICyUBUe",
        "outputId": "8351160c-db1d-49b4-ef59-9104327342a3"
      },
      "source": [
        "finished_quests_metrics.loc[:, ['total_len', 'num_fragments', 'buttons_for_fragment', 'mean_fragment_len']].describe()"
      ],
      "execution_count": null,
      "outputs": [
        {
          "output_type": "execute_result",
          "data": {
            "text/html": [
              "<div>\n",
              "<style scoped>\n",
              "    .dataframe tbody tr th:only-of-type {\n",
              "        vertical-align: middle;\n",
              "    }\n",
              "\n",
              "    .dataframe tbody tr th {\n",
              "        vertical-align: top;\n",
              "    }\n",
              "\n",
              "    .dataframe thead th {\n",
              "        text-align: right;\n",
              "    }\n",
              "</style>\n",
              "<table border=\"1\" class=\"dataframe\">\n",
              "  <thead>\n",
              "    <tr style=\"text-align: right;\">\n",
              "      <th></th>\n",
              "      <th>total_len</th>\n",
              "      <th>num_fragments</th>\n",
              "      <th>buttons_for_fragment</th>\n",
              "      <th>mean_fragment_len</th>\n",
              "    </tr>\n",
              "  </thead>\n",
              "  <tbody>\n",
              "    <tr>\n",
              "      <th>count</th>\n",
              "      <td>134.000000</td>\n",
              "      <td>134.000000</td>\n",
              "      <td>134.000000</td>\n",
              "      <td>133.000000</td>\n",
              "    </tr>\n",
              "    <tr>\n",
              "      <th>mean</th>\n",
              "      <td>14840.447761</td>\n",
              "      <td>12.156716</td>\n",
              "      <td>1.727253</td>\n",
              "      <td>989.204070</td>\n",
              "    </tr>\n",
              "    <tr>\n",
              "      <th>std</th>\n",
              "      <td>17991.721533</td>\n",
              "      <td>9.405529</td>\n",
              "      <td>0.488533</td>\n",
              "      <td>819.558569</td>\n",
              "    </tr>\n",
              "    <tr>\n",
              "      <th>min</th>\n",
              "      <td>147.000000</td>\n",
              "      <td>1.000000</td>\n",
              "      <td>0.000000</td>\n",
              "      <td>42.000000</td>\n",
              "    </tr>\n",
              "    <tr>\n",
              "      <th>25%</th>\n",
              "      <td>4971.250000</td>\n",
              "      <td>5.250000</td>\n",
              "      <td>1.465909</td>\n",
              "      <td>631.409091</td>\n",
              "    </tr>\n",
              "    <tr>\n",
              "      <th>50%</th>\n",
              "      <td>9476.000000</td>\n",
              "      <td>9.000000</td>\n",
              "      <td>1.666667</td>\n",
              "      <td>795.625000</td>\n",
              "    </tr>\n",
              "    <tr>\n",
              "      <th>75%</th>\n",
              "      <td>16735.750000</td>\n",
              "      <td>15.750000</td>\n",
              "      <td>1.933333</td>\n",
              "      <td>1116.285714</td>\n",
              "    </tr>\n",
              "    <tr>\n",
              "      <th>max</th>\n",
              "      <td>140387.000000</td>\n",
              "      <td>48.000000</td>\n",
              "      <td>5.000000</td>\n",
              "      <td>6043.173913</td>\n",
              "    </tr>\n",
              "  </tbody>\n",
              "</table>\n",
              "</div>"
            ],
            "text/plain": [
              "           total_len  num_fragments  buttons_for_fragment  mean_fragment_len\n",
              "count     134.000000     134.000000            134.000000         133.000000\n",
              "mean    14840.447761      12.156716              1.727253         989.204070\n",
              "std     17991.721533       9.405529              0.488533         819.558569\n",
              "min       147.000000       1.000000              0.000000          42.000000\n",
              "25%      4971.250000       5.250000              1.465909         631.409091\n",
              "50%      9476.000000       9.000000              1.666667         795.625000\n",
              "75%     16735.750000      15.750000              1.933333        1116.285714\n",
              "max    140387.000000      48.000000              5.000000        6043.173913"
            ]
          },
          "metadata": {
            "tags": []
          },
          "execution_count": 20
        }
      ]
    },
    {
      "cell_type": "code",
      "metadata": {
        "colab": {
          "base_uri": "https://localhost:8080/"
        },
        "id": "aIDfYwJwU-Qa",
        "outputId": "e7b8c141-5105-4167-a90b-96c16c107cf6"
      },
      "source": [
        "text2source_seq = {}\n",
        "\n",
        "for file_name in tqdm(os.listdir(current_test_dir)):\n",
        "    file_path = os.path.join(current_test_dir, file_name)\n",
        "    with open(file_path, encoding='utf-8') as f:\n",
        "        text = f.read()\n",
        "    if 'EOQ' in text:\n",
        "        quest = text.split('EOQ')[0]\n",
        "    else:\n",
        "        quest = text\n",
        "    text_without_tags = re.sub('BO[QF]|BUTTON|INPUT', '', quest)\n",
        "    sents = sent_tokenize(text_without_tags, 'russian')\n",
        "    sources = [get_source(sent) for sent in sents if len(sent.split())>1]\n",
        "    text2source_seq[file_name] = sources"
      ],
      "execution_count": null,
      "outputs": [
        {
          "output_type": "stream",
          "text": [
            "100%|██████████| 136/136 [00:01<00:00, 78.75it/s]\n"
          ],
          "name": "stderr"
        }
      ]
    },
    {
      "cell_type": "code",
      "metadata": {
        "id": "y0SrGxSdVP_k"
      },
      "source": [
        ""
      ],
      "execution_count": null,
      "outputs": []
    },
    {
      "cell_type": "code",
      "metadata": {
        "id": "gRK9PPSDVQCS"
      },
      "source": [
        "known_beginnings_original_sents_rates = []\n",
        "unknown_beginnings_original_sents_rates = []\n",
        "\n",
        "known_beginnings_original_sents_num_soarces = []\n",
        "unknown_beginnings_original_sents_num_soarces = []\n",
        "\n",
        "for quest, source_seq in text2source_seq.items():\n",
        "    if source_seq:\n",
        "        num_original_sents = len([source for source in source_seq if source == 'new_sent'])\n",
        "        original_sents_rate = num_original_sents/len(source_seq)\n",
        "        num_soarces = len(set([source for source in source_seq if source != 'new_sent']))\n",
        "        if source_seq[0] == 'new_sent':\n",
        "            unknown_beginnings_original_sents_rates.append(original_sents_rate)\n",
        "            unknown_beginnings_original_sents_num_soarces.append(num_soarces)\n",
        "        else:\n",
        "            known_beginnings_original_sents_rates.append(original_sents_rate)\n",
        "            known_beginnings_original_sents_num_soarces.append(num_soarces)"
      ],
      "execution_count": null,
      "outputs": []
    },
    {
      "cell_type": "code",
      "metadata": {
        "colab": {
          "base_uri": "https://localhost:8080/"
        },
        "id": "bXdkGujDU-Tu",
        "outputId": "dd69780b-1b1e-496e-e68a-3a73da2e8bb5"
      },
      "source": [
        "known_beginnings_original_sents_rates"
      ],
      "execution_count": null,
      "outputs": [
        {
          "output_type": "execute_result",
          "data": {
            "text/plain": [
              "[0.794251134644478]"
            ]
          },
          "metadata": {
            "tags": []
          },
          "execution_count": 29
        }
      ]
    },
    {
      "cell_type": "code",
      "metadata": {
        "colab": {
          "base_uri": "https://localhost:8080/"
        },
        "id": "mHUYgNNsVSMA",
        "outputId": "27597e2c-8c83-4d41-fef3-c670c344f1c6"
      },
      "source": [
        "known_beginnings_original_sents_num_soarces"
      ],
      "execution_count": null,
      "outputs": [
        {
          "output_type": "execute_result",
          "data": {
            "text/plain": [
              "[9]"
            ]
          },
          "metadata": {
            "tags": []
          },
          "execution_count": 30
        }
      ]
    },
    {
      "cell_type": "code",
      "metadata": {
        "colab": {
          "base_uri": "https://localhost:8080/"
        },
        "id": "O729UOCuVVrV",
        "outputId": "71ba375c-f6a0-466c-d305-1e0a148af007"
      },
      "source": [
        "pd.Series(unknown_beginnings_original_sents_rates).describe()"
      ],
      "execution_count": null,
      "outputs": [
        {
          "output_type": "execute_result",
          "data": {
            "text/plain": [
              "count    135.000000\n",
              "mean       0.940044\n",
              "std        0.111144\n",
              "min        0.067797\n",
              "25%        0.937779\n",
              "50%        0.956710\n",
              "75%        0.979261\n",
              "max        1.000000\n",
              "dtype: float64"
            ]
          },
          "metadata": {
            "tags": []
          },
          "execution_count": 31
        }
      ]
    },
    {
      "cell_type": "code",
      "metadata": {
        "colab": {
          "base_uri": "https://localhost:8080/"
        },
        "id": "fQL8nKl5Vd3u",
        "outputId": "c24770c1-c200-4eb4-dd2e-75b121a8ff39"
      },
      "source": [
        "pd.Series(unknown_beginnings_original_sents_num_soarces).describe()"
      ],
      "execution_count": null,
      "outputs": [
        {
          "output_type": "execute_result",
          "data": {
            "text/plain": [
              "count    135.000000\n",
              "mean       6.733333\n",
              "std        6.515424\n",
              "min        0.000000\n",
              "25%        2.000000\n",
              "50%        5.000000\n",
              "75%       10.000000\n",
              "max       29.000000\n",
              "dtype: float64"
            ]
          },
          "metadata": {
            "tags": []
          },
          "execution_count": 32
        }
      ]
    },
    {
      "cell_type": "code",
      "metadata": {
        "colab": {
          "base_uri": "https://localhost:8080/"
        },
        "id": "zGSQQ0AkVpj6",
        "outputId": "1aee332e-1861-4616-c949-715acb7012cd"
      },
      "source": [
        "triggers = pd.DataFrame(columns=['trigger', 'known_sent', 'caused_next_known_seq'])\n",
        "\n",
        "\n",
        "for file_name in tqdm(os.listdir(current_test_dir)):\n",
        "    file_path = os.path.join(current_test_dir, file_name)\n",
        "    with open(file_path, encoding='utf-8') as f:\n",
        "        text = f.read()\n",
        "    if 'EOQ' in text:\n",
        "        quest = text.split('EOQ')[0]\n",
        "    else:\n",
        "        quest = text\n",
        "    text_without_tags = re.sub('BO[QF]|BUTTON|INPUT', '', quest)\n",
        "    sents = sent_tokenize(text_without_tags, 'russian')\n",
        "    previous_sent_source = None\n",
        "    no_current_quest_seqs = True\n",
        "    for i, sent in enumerate(sents):\n",
        "        current_sent_source = get_source(sent)\n",
        "        if i and current_sent_source != 'new_sent':\n",
        "            if previous_sent_source == 'new_sent':\n",
        "                no_current_quest_seqs = False\n",
        "                trigger = sents[i-1]\n",
        "                known_sent = sents[i]\n",
        "                triggers.loc[len(triggers)] = [trigger, known_sent, False]\n",
        "                check_seq = True\n",
        "            elif len(triggers) and current_sent_source==previous_sent_source and not no_current_quest_seqs:\n",
        "                triggers['caused_next_known_seq'][len(triggers)-1] = True\n",
        "           \n",
        "        previous_sent_source = current_sent_source\n",
        "        "
      ],
      "execution_count": null,
      "outputs": [
        {
          "output_type": "stream",
          "text": [
            "100%|██████████| 136/136 [00:06<00:00, 19.74it/s]\n"
          ],
          "name": "stderr"
        }
      ]
    },
    {
      "cell_type": "code",
      "metadata": {
        "colab": {
          "base_uri": "https://localhost:8080/",
          "height": 416
        },
        "id": "T0M9SyPfV8kS",
        "outputId": "9bc374eb-51c7-45d7-fc9c-2904e9d6f521"
      },
      "source": [
        "triggers"
      ],
      "execution_count": null,
      "outputs": [
        {
          "output_type": "execute_result",
          "data": {
            "text/html": [
              "<div>\n",
              "<style scoped>\n",
              "    .dataframe tbody tr th:only-of-type {\n",
              "        vertical-align: middle;\n",
              "    }\n",
              "\n",
              "    .dataframe tbody tr th {\n",
              "        vertical-align: top;\n",
              "    }\n",
              "\n",
              "    .dataframe thead th {\n",
              "        text-align: right;\n",
              "    }\n",
              "</style>\n",
              "<table border=\"1\" class=\"dataframe\">\n",
              "  <thead>\n",
              "    <tr style=\"text-align: right;\">\n",
              "      <th></th>\n",
              "      <th>trigger</th>\n",
              "      <th>known_sent</th>\n",
              "      <th>caused_next_known_seq</th>\n",
              "    </tr>\n",
              "  </thead>\n",
              "  <tbody>\n",
              "    <tr>\n",
              "      <th>0</th>\n",
              "      <td>А затем слышишь, как двое мужчин со всплесками...</td>\n",
              "      <td>— Смотрите!</td>\n",
              "      <td>False</td>\n",
              "    </tr>\n",
              "    <tr>\n",
              "      <th>1</th>\n",
              "      <td>— раздаётся из глубин леса нечеловеческий голос.</td>\n",
              "      <td>Иди на СТРАНИЦУ 8.</td>\n",
              "      <td>True</td>\n",
              "    </tr>\n",
              "    <tr>\n",
              "      <th>2</th>\n",
              "      <td>На тебя глядит само воплощение зла — лесной дух!</td>\n",
              "      <td>— Я вижу, вижу!</td>\n",
              "      <td>False</td>\n",
              "    </tr>\n",
              "    <tr>\n",
              "      <th>3</th>\n",
              "      <td>— Ты послан мной спасти мир.\\nДух начинает хих...</td>\n",
              "      <td>— Как?</td>\n",
              "      <td>False</td>\n",
              "    </tr>\n",
              "    <tr>\n",
              "      <th>4</th>\n",
              "      <td>Да я же пошутил!</td>\n",
              "      <td>— восклицает он.</td>\n",
              "      <td>False</td>\n",
              "    </tr>\n",
              "    <tr>\n",
              "      <th>...</th>\n",
              "      <td>...</td>\n",
              "      <td>...</td>\n",
              "      <td>...</td>\n",
              "    </tr>\n",
              "    <tr>\n",
              "      <th>1841</th>\n",
              "      <td>Если ты умрёшь за  эту ложь, то останешься жит...</td>\n",
              "      <td>Вот и всё.</td>\n",
              "      <td>False</td>\n",
              "    </tr>\n",
              "    <tr>\n",
              "      <th>1842</th>\n",
              "      <td>Ещё один день...\\nТы заметил дверь, которая ве...</td>\n",
              "      <td>Она заперта.</td>\n",
              "      <td>False</td>\n",
              "    </tr>\n",
              "    <tr>\n",
              "      <th>1843</th>\n",
              "      <td>Он бесстрастно сказал: «Хорошо.</td>\n",
              "      <td>Следуй за мной».</td>\n",
              "      <td>False</td>\n",
              "    </tr>\n",
              "    <tr>\n",
              "      <th>1844</th>\n",
              "      <td>Если, конечно, ты не сумеешь найти способ побе...</td>\n",
              "      <td>КОНЕЦ</td>\n",
              "      <td>False</td>\n",
              "    </tr>\n",
              "    <tr>\n",
              "      <th>1845</th>\n",
              "      <td>Ваше приключение заканчивается здесь.</td>\n",
              "      <td>конец\\n\\nконец</td>\n",
              "      <td>False</td>\n",
              "    </tr>\n",
              "  </tbody>\n",
              "</table>\n",
              "<p>1846 rows × 3 columns</p>\n",
              "</div>"
            ],
            "text/plain": [
              "                                                trigger  ... caused_next_known_seq\n",
              "0     А затем слышишь, как двое мужчин со всплесками...  ...                 False\n",
              "1      — раздаётся из глубин леса нечеловеческий голос.  ...                  True\n",
              "2      На тебя глядит само воплощение зла — лесной дух!  ...                 False\n",
              "3     — Ты послан мной спасти мир.\\nДух начинает хих...  ...                 False\n",
              "4                                      Да я же пошутил!  ...                 False\n",
              "...                                                 ...  ...                   ...\n",
              "1841  Если ты умрёшь за  эту ложь, то останешься жит...  ...                 False\n",
              "1842  Ещё один день...\\nТы заметил дверь, которая ве...  ...                 False\n",
              "1843                    Он бесстрастно сказал: «Хорошо.  ...                 False\n",
              "1844  Если, конечно, ты не сумеешь найти способ побе...  ...                 False\n",
              "1845              Ваше приключение заканчивается здесь.  ...                 False\n",
              "\n",
              "[1846 rows x 3 columns]"
            ]
          },
          "metadata": {
            "tags": []
          },
          "execution_count": 34
        }
      ]
    },
    {
      "cell_type": "code",
      "metadata": {
        "id": "lHdlehqVWDlc"
      },
      "source": [
        "sequence_triggers = triggers[triggers['caused_next_known_seq']]"
      ],
      "execution_count": null,
      "outputs": []
    },
    {
      "cell_type": "code",
      "metadata": {
        "colab": {
          "base_uri": "https://localhost:8080/",
          "height": 416
        },
        "id": "R201krzRWJ1X",
        "outputId": "45fd78a2-5075-4a30-e3db-e1a33aab93d2"
      },
      "source": [
        "sequence_triggers"
      ],
      "execution_count": null,
      "outputs": [
        {
          "output_type": "execute_result",
          "data": {
            "text/html": [
              "<div>\n",
              "<style scoped>\n",
              "    .dataframe tbody tr th:only-of-type {\n",
              "        vertical-align: middle;\n",
              "    }\n",
              "\n",
              "    .dataframe tbody tr th {\n",
              "        vertical-align: top;\n",
              "    }\n",
              "\n",
              "    .dataframe thead th {\n",
              "        text-align: right;\n",
              "    }\n",
              "</style>\n",
              "<table border=\"1\" class=\"dataframe\">\n",
              "  <thead>\n",
              "    <tr style=\"text-align: right;\">\n",
              "      <th></th>\n",
              "      <th>trigger</th>\n",
              "      <th>known_sent</th>\n",
              "      <th>caused_next_known_seq</th>\n",
              "    </tr>\n",
              "  </thead>\n",
              "  <tbody>\n",
              "    <tr>\n",
              "      <th>1</th>\n",
              "      <td>— раздаётся из глубин леса нечеловеческий голос.</td>\n",
              "      <td>Иди на СТРАНИЦУ 8.</td>\n",
              "      <td>True</td>\n",
              "    </tr>\n",
              "    <tr>\n",
              "      <th>11</th>\n",
              "      <td>Только когда она поправляет свой передник, ты ...</td>\n",
              "      <td>Это Мелисса!</td>\n",
              "      <td>True</td>\n",
              "    </tr>\n",
              "    <tr>\n",
              "      <th>26</th>\n",
              "      <td>Ты шагаешь в вестибюль, и тут клоунская машина...</td>\n",
              "      <td>— кричит мальчик-ящерица.</td>\n",
              "      <td>True</td>\n",
              "    </tr>\n",
              "    <tr>\n",
              "      <th>33</th>\n",
              "      <td>— Ну, так что тебе от меня нужно?</td>\n",
              "      <td>— спрашивает он.</td>\n",
              "      <td>True</td>\n",
              "    </tr>\n",
              "    <tr>\n",
              "      <th>40</th>\n",
              "      <td>— Я выберу его и заберу!</td>\n",
              "      <td>— Нет!</td>\n",
              "      <td>True</td>\n",
              "    </tr>\n",
              "    <tr>\n",
              "      <th>...</th>\n",
              "      <td>...</td>\n",
              "      <td>...</td>\n",
              "      <td>...</td>\n",
              "    </tr>\n",
              "    <tr>\n",
              "      <th>1834</th>\n",
              "      <td>– полюбопытствовал я.</td>\n",
              "      <td>- Он поправился и не стал оставаться.</td>\n",
              "      <td>True</td>\n",
              "    </tr>\n",
              "    <tr>\n",
              "      <th>1835</th>\n",
              "      <td>Я рассказал ей обо всём, что мне самому удалос...</td>\n",
              "      <td>В лавке что-то забрякало и внимание Джени пере...</td>\n",
              "      <td>True</td>\n",
              "    </tr>\n",
              "    <tr>\n",
              "      <th>1836</th>\n",
              "      <td>Получить что-то большее\\n\\nВзять сумку с деньг...</td>\n",
              "      <td>Не могу объяснить, почему я сказал именно это.</td>\n",
              "      <td>True</td>\n",
              "    </tr>\n",
              "    <tr>\n",
              "      <th>1837</th>\n",
              "      <td>\\n\\nВы выбрались на безжизненных скалах, стяну...</td>\n",
              "      <td>Рядом, к счастью пролегала трасса автобана.</td>\n",
              "      <td>True</td>\n",
              "    </tr>\n",
              "    <tr>\n",
              "      <th>1840</th>\n",
              "      <td>Не понимаю, почему.</td>\n",
              "      <td>- Извини.</td>\n",
              "      <td>True</td>\n",
              "    </tr>\n",
              "  </tbody>\n",
              "</table>\n",
              "<p>107 rows × 3 columns</p>\n",
              "</div>"
            ],
            "text/plain": [
              "                                                trigger  ... caused_next_known_seq\n",
              "1      — раздаётся из глубин леса нечеловеческий голос.  ...                  True\n",
              "11    Только когда она поправляет свой передник, ты ...  ...                  True\n",
              "26    Ты шагаешь в вестибюль, и тут клоунская машина...  ...                  True\n",
              "33                    — Ну, так что тебе от меня нужно?  ...                  True\n",
              "40                             — Я выберу его и заберу!  ...                  True\n",
              "...                                                 ...  ...                   ...\n",
              "1834                              – полюбопытствовал я.  ...                  True\n",
              "1835  Я рассказал ей обо всём, что мне самому удалос...  ...                  True\n",
              "1836  Получить что-то большее\\n\\nВзять сумку с деньг...  ...                  True\n",
              "1837  \\n\\nВы выбрались на безжизненных скалах, стяну...  ...                  True\n",
              "1840                                Не понимаю, почему.  ...                  True\n",
              "\n",
              "[107 rows x 3 columns]"
            ]
          },
          "metadata": {
            "tags": []
          },
          "execution_count": 36
        }
      ]
    },
    {
      "cell_type": "code",
      "metadata": {
        "id": "y01W4AiJWJ4l"
      },
      "source": [
        ""
      ],
      "execution_count": null,
      "outputs": []
    }
  ]
}